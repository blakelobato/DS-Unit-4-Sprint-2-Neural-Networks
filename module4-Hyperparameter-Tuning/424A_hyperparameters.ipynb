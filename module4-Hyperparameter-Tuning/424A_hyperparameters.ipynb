{
 "cells": [
  {
   "cell_type": "markdown",
   "metadata": {
    "colab_type": "text",
    "id": "9Ryp-TVm4njD"
   },
   "source": [
    "<img align=\"left\" src=\"https://lever-client-logos.s3.amazonaws.com/864372b1-534c-480e-acd5-9711f850815c-1524247202159.png\" width=200>\n",
    "<br></br>\n",
    "\n",
    "# Hyperparameter Tuning\n",
    "\n",
    "## *Data Science Unit 4 Sprint 2 Assignment 4*\n",
    "\n",
    "## Your Mission, should you choose to accept it...\n",
    "\n",
    "To hyperparameter tune and extract every ounce of accuracy out of this telecom customer churn dataset: [Available Here](https://lambdaschool-data-science.s3.amazonaws.com/telco-churn/WA_Fn-UseC_-Telco-Customer-Churn+(1).csv)\n",
    "\n",
    "## Requirements\n",
    "\n",
    "- Load the data\n",
    "- Clean the data if necessary (it will be)\n",
    "- Create and fit a baseline Keras MLP model to the data.\n",
    "- Hyperparameter tune (at least) the following parameters:\n",
    " - batch_size\n",
    " - training epochs\n",
    " - optimizer\n",
    " - learning rate (if applicable to optimizer)\n",
    " - momentum (if applicable to optimizer)\n",
    " - activation functions\n",
    " - network weight initialization\n",
    " - dropout regularization\n",
    " - number of neurons in the hidden layer\n",
    " \n",
    " You must use Grid Search and Cross Validation for your initial pass of the above hyperparameters\n",
    " \n",
    " Try and get the maximum accuracy possible out of this data! You'll save big telecoms millions! Doesn't that sound great?\n"
   ]
  },
  {
   "cell_type": "code",
   "execution_count": 1,
   "metadata": {
    "colab": {},
    "colab_type": "code",
    "id": "NNJ-tOBs4jM1"
   },
   "outputs": [],
   "source": [
    "##### Your Code Here #####"
   ]
  },
  {
   "cell_type": "code",
   "execution_count": 2,
   "metadata": {},
   "outputs": [],
   "source": [
    "import pandas as pd\n",
    "import numpy as np"
   ]
  },
  {
   "cell_type": "code",
   "execution_count": 3,
   "metadata": {},
   "outputs": [
    {
     "name": "stdout",
     "output_type": "stream",
     "text": [
      "(7043, 21)\n"
     ]
    }
   ],
   "source": [
    "#load data in\n",
    "df = pd.read_csv('churn.csv')\n",
    "print(df.shape)"
   ]
  },
  {
   "cell_type": "code",
   "execution_count": 4,
   "metadata": {},
   "outputs": [
    {
     "data": {
      "text/html": [
       "<div>\n",
       "<style scoped>\n",
       "    .dataframe tbody tr th:only-of-type {\n",
       "        vertical-align: middle;\n",
       "    }\n",
       "\n",
       "    .dataframe tbody tr th {\n",
       "        vertical-align: top;\n",
       "    }\n",
       "\n",
       "    .dataframe thead th {\n",
       "        text-align: right;\n",
       "    }\n",
       "</style>\n",
       "<table border=\"1\" class=\"dataframe\">\n",
       "  <thead>\n",
       "    <tr style=\"text-align: right;\">\n",
       "      <th></th>\n",
       "      <th>customerID</th>\n",
       "      <th>gender</th>\n",
       "      <th>SeniorCitizen</th>\n",
       "      <th>Partner</th>\n",
       "      <th>Dependents</th>\n",
       "      <th>tenure</th>\n",
       "      <th>PhoneService</th>\n",
       "      <th>MultipleLines</th>\n",
       "      <th>InternetService</th>\n",
       "      <th>OnlineSecurity</th>\n",
       "      <th>...</th>\n",
       "      <th>DeviceProtection</th>\n",
       "      <th>TechSupport</th>\n",
       "      <th>StreamingTV</th>\n",
       "      <th>StreamingMovies</th>\n",
       "      <th>Contract</th>\n",
       "      <th>PaperlessBilling</th>\n",
       "      <th>PaymentMethod</th>\n",
       "      <th>MonthlyCharges</th>\n",
       "      <th>TotalCharges</th>\n",
       "      <th>Churn</th>\n",
       "    </tr>\n",
       "  </thead>\n",
       "  <tbody>\n",
       "    <tr>\n",
       "      <th>0</th>\n",
       "      <td>7590-VHVEG</td>\n",
       "      <td>Female</td>\n",
       "      <td>0</td>\n",
       "      <td>Yes</td>\n",
       "      <td>No</td>\n",
       "      <td>1</td>\n",
       "      <td>No</td>\n",
       "      <td>No phone service</td>\n",
       "      <td>DSL</td>\n",
       "      <td>No</td>\n",
       "      <td>...</td>\n",
       "      <td>No</td>\n",
       "      <td>No</td>\n",
       "      <td>No</td>\n",
       "      <td>No</td>\n",
       "      <td>Month-to-month</td>\n",
       "      <td>Yes</td>\n",
       "      <td>Electronic check</td>\n",
       "      <td>29.85</td>\n",
       "      <td>29.85</td>\n",
       "      <td>No</td>\n",
       "    </tr>\n",
       "    <tr>\n",
       "      <th>1</th>\n",
       "      <td>5575-GNVDE</td>\n",
       "      <td>Male</td>\n",
       "      <td>0</td>\n",
       "      <td>No</td>\n",
       "      <td>No</td>\n",
       "      <td>34</td>\n",
       "      <td>Yes</td>\n",
       "      <td>No</td>\n",
       "      <td>DSL</td>\n",
       "      <td>Yes</td>\n",
       "      <td>...</td>\n",
       "      <td>Yes</td>\n",
       "      <td>No</td>\n",
       "      <td>No</td>\n",
       "      <td>No</td>\n",
       "      <td>One year</td>\n",
       "      <td>No</td>\n",
       "      <td>Mailed check</td>\n",
       "      <td>56.95</td>\n",
       "      <td>1889.5</td>\n",
       "      <td>No</td>\n",
       "    </tr>\n",
       "    <tr>\n",
       "      <th>2</th>\n",
       "      <td>3668-QPYBK</td>\n",
       "      <td>Male</td>\n",
       "      <td>0</td>\n",
       "      <td>No</td>\n",
       "      <td>No</td>\n",
       "      <td>2</td>\n",
       "      <td>Yes</td>\n",
       "      <td>No</td>\n",
       "      <td>DSL</td>\n",
       "      <td>Yes</td>\n",
       "      <td>...</td>\n",
       "      <td>No</td>\n",
       "      <td>No</td>\n",
       "      <td>No</td>\n",
       "      <td>No</td>\n",
       "      <td>Month-to-month</td>\n",
       "      <td>Yes</td>\n",
       "      <td>Mailed check</td>\n",
       "      <td>53.85</td>\n",
       "      <td>108.15</td>\n",
       "      <td>Yes</td>\n",
       "    </tr>\n",
       "    <tr>\n",
       "      <th>3</th>\n",
       "      <td>7795-CFOCW</td>\n",
       "      <td>Male</td>\n",
       "      <td>0</td>\n",
       "      <td>No</td>\n",
       "      <td>No</td>\n",
       "      <td>45</td>\n",
       "      <td>No</td>\n",
       "      <td>No phone service</td>\n",
       "      <td>DSL</td>\n",
       "      <td>Yes</td>\n",
       "      <td>...</td>\n",
       "      <td>Yes</td>\n",
       "      <td>Yes</td>\n",
       "      <td>No</td>\n",
       "      <td>No</td>\n",
       "      <td>One year</td>\n",
       "      <td>No</td>\n",
       "      <td>Bank transfer (automatic)</td>\n",
       "      <td>42.30</td>\n",
       "      <td>1840.75</td>\n",
       "      <td>No</td>\n",
       "    </tr>\n",
       "    <tr>\n",
       "      <th>4</th>\n",
       "      <td>9237-HQITU</td>\n",
       "      <td>Female</td>\n",
       "      <td>0</td>\n",
       "      <td>No</td>\n",
       "      <td>No</td>\n",
       "      <td>2</td>\n",
       "      <td>Yes</td>\n",
       "      <td>No</td>\n",
       "      <td>Fiber optic</td>\n",
       "      <td>No</td>\n",
       "      <td>...</td>\n",
       "      <td>No</td>\n",
       "      <td>No</td>\n",
       "      <td>No</td>\n",
       "      <td>No</td>\n",
       "      <td>Month-to-month</td>\n",
       "      <td>Yes</td>\n",
       "      <td>Electronic check</td>\n",
       "      <td>70.70</td>\n",
       "      <td>151.65</td>\n",
       "      <td>Yes</td>\n",
       "    </tr>\n",
       "  </tbody>\n",
       "</table>\n",
       "<p>5 rows × 21 columns</p>\n",
       "</div>"
      ],
      "text/plain": [
       "   customerID  gender  SeniorCitizen Partner Dependents  tenure PhoneService  \\\n",
       "0  7590-VHVEG  Female              0     Yes         No       1           No   \n",
       "1  5575-GNVDE    Male              0      No         No      34          Yes   \n",
       "2  3668-QPYBK    Male              0      No         No       2          Yes   \n",
       "3  7795-CFOCW    Male              0      No         No      45           No   \n",
       "4  9237-HQITU  Female              0      No         No       2          Yes   \n",
       "\n",
       "      MultipleLines InternetService OnlineSecurity  ... DeviceProtection  \\\n",
       "0  No phone service             DSL             No  ...               No   \n",
       "1                No             DSL            Yes  ...              Yes   \n",
       "2                No             DSL            Yes  ...               No   \n",
       "3  No phone service             DSL            Yes  ...              Yes   \n",
       "4                No     Fiber optic             No  ...               No   \n",
       "\n",
       "  TechSupport StreamingTV StreamingMovies        Contract PaperlessBilling  \\\n",
       "0          No          No              No  Month-to-month              Yes   \n",
       "1          No          No              No        One year               No   \n",
       "2          No          No              No  Month-to-month              Yes   \n",
       "3         Yes          No              No        One year               No   \n",
       "4          No          No              No  Month-to-month              Yes   \n",
       "\n",
       "               PaymentMethod MonthlyCharges  TotalCharges Churn  \n",
       "0           Electronic check          29.85         29.85    No  \n",
       "1               Mailed check          56.95        1889.5    No  \n",
       "2               Mailed check          53.85        108.15   Yes  \n",
       "3  Bank transfer (automatic)          42.30       1840.75    No  \n",
       "4           Electronic check          70.70        151.65   Yes  \n",
       "\n",
       "[5 rows x 21 columns]"
      ]
     },
     "execution_count": 4,
     "metadata": {},
     "output_type": "execute_result"
    }
   ],
   "source": [
    "#high level look at data\n",
    "df.head()"
   ]
  },
  {
   "cell_type": "code",
   "execution_count": 5,
   "metadata": {},
   "outputs": [
    {
     "data": {
      "text/plain": [
       "Index(['customerID', 'gender', 'SeniorCitizen', 'Partner', 'Dependents',\n",
       "       'tenure', 'PhoneService', 'MultipleLines', 'InternetService',\n",
       "       'OnlineSecurity', 'OnlineBackup', 'DeviceProtection', 'TechSupport',\n",
       "       'StreamingTV', 'StreamingMovies', 'Contract', 'PaperlessBilling',\n",
       "       'PaymentMethod', 'MonthlyCharges', 'TotalCharges', 'Churn'],\n",
       "      dtype='object')"
      ]
     },
     "execution_count": 5,
     "metadata": {},
     "output_type": "execute_result"
    }
   ],
   "source": [
    "df.columns"
   ]
  },
  {
   "cell_type": "code",
   "execution_count": 6,
   "metadata": {},
   "outputs": [],
   "source": [
    "#drop high cardinality customerID column that doesn't provide useful information\n",
    "df = df.drop(columns='customerID')"
   ]
  },
  {
   "cell_type": "code",
   "execution_count": 7,
   "metadata": {},
   "outputs": [
    {
     "data": {
      "text/plain": [
       "<bound method Series.unique of 0       Yes\n",
       "1        No\n",
       "2       Yes\n",
       "3        No\n",
       "4        No\n",
       "       ... \n",
       "7038     No\n",
       "7039    Yes\n",
       "7040     No\n",
       "7041     No\n",
       "7042     No\n",
       "Name: OnlineBackup, Length: 7043, dtype: object>"
      ]
     },
     "execution_count": 7,
     "metadata": {},
     "output_type": "execute_result"
    }
   ],
   "source": [
    "df['OnlineBackup'].unique"
   ]
  },
  {
   "cell_type": "code",
   "execution_count": 8,
   "metadata": {},
   "outputs": [],
   "source": [
    "#change values to binary if they are yes or no // male or female\n",
    "df['Churn'] = df['Churn'].replace(regex='Yes', value=1)\n",
    "df['Churn'] = df['Churn'].replace(regex='No', value=0)\n",
    "\n",
    "df['gender'] = df['gender'].replace(regex='Female', value=1)\n",
    "df['gender'] = df['gender'].replace(regex='Male', value=0)\n",
    "\n",
    "df['Partner'] = df['Partner'].replace(regex='Yes', value=1)\n",
    "df['Partner'] = df['Partner'].replace(regex='No', value=0)\n",
    "\n",
    "df['Dependents'] = df['Dependents'].replace(regex='Yes', value=1)\n",
    "df['Dependents'] = df['Dependents'].replace(regex='No', value=0)\n",
    "\n",
    "df['PhoneService'] = df['PhoneService'].replace(regex='Yes', value=1)\n",
    "df['PhoneService'] = df['PhoneService'].replace(regex='No', value=0)\n",
    "\n",
    "df['OnlineSecurity'] = df['OnlineSecurity'].replace(regex='Yes', value=1)\n",
    "df['OnlineSecurity'] = df['OnlineSecurity'].replace(regex='No', value=0)\n",
    "\n",
    "df['OnlineBackup'] = df['OnlineBackup'].replace(regex='Yes', value=1)\n",
    "df['OnlineBackup'] = df['OnlineBackup'].replace(regex='No', value=0)\n",
    "\n",
    "df['DeviceProtection'] = df['DeviceProtection'].replace(regex='Yes', value=1)\n",
    "df['DeviceProtection'] = df['DeviceProtection'].replace(regex='No', value=0)\n",
    "\n",
    "df['TechSupport'] = df['TechSupport'].replace(regex='Yes', value=1)\n",
    "df['TechSupport'] = df['TechSupport'].replace(regex='No', value=0)\n",
    "\n",
    "df['StreamingTV'] = df['StreamingTV'].replace(regex='Yes', value=1)\n",
    "df['StreamingTV'] = df['StreamingTV'].replace(regex='No', value=0)\n",
    "\n",
    "df['StreamingMovies'] = df['StreamingMovies'].replace(regex='Yes', value=1)\n",
    "df['StreamingMovies'] = df['StreamingMovies'].replace(regex='No', value=0)\n",
    "\n",
    "df['PaperlessBilling'] = df['PaperlessBilling'].replace(regex='Yes', value=1)\n",
    "df['PaperlessBilling'] = df['PaperlessBilling'].replace(regex='No', value=0)"
   ]
  },
  {
   "cell_type": "code",
   "execution_count": 9,
   "metadata": {},
   "outputs": [
    {
     "data": {
      "text/html": [
       "<div>\n",
       "<style scoped>\n",
       "    .dataframe tbody tr th:only-of-type {\n",
       "        vertical-align: middle;\n",
       "    }\n",
       "\n",
       "    .dataframe tbody tr th {\n",
       "        vertical-align: top;\n",
       "    }\n",
       "\n",
       "    .dataframe thead th {\n",
       "        text-align: right;\n",
       "    }\n",
       "</style>\n",
       "<table border=\"1\" class=\"dataframe\">\n",
       "  <thead>\n",
       "    <tr style=\"text-align: right;\">\n",
       "      <th></th>\n",
       "      <th>gender</th>\n",
       "      <th>SeniorCitizen</th>\n",
       "      <th>Partner</th>\n",
       "      <th>Dependents</th>\n",
       "      <th>tenure</th>\n",
       "      <th>PhoneService</th>\n",
       "      <th>MultipleLines</th>\n",
       "      <th>InternetService</th>\n",
       "      <th>OnlineSecurity</th>\n",
       "      <th>OnlineBackup</th>\n",
       "      <th>DeviceProtection</th>\n",
       "      <th>TechSupport</th>\n",
       "      <th>StreamingTV</th>\n",
       "      <th>StreamingMovies</th>\n",
       "      <th>Contract</th>\n",
       "      <th>PaperlessBilling</th>\n",
       "      <th>PaymentMethod</th>\n",
       "      <th>MonthlyCharges</th>\n",
       "      <th>TotalCharges</th>\n",
       "      <th>Churn</th>\n",
       "    </tr>\n",
       "  </thead>\n",
       "  <tbody>\n",
       "    <tr>\n",
       "      <th>0</th>\n",
       "      <td>1</td>\n",
       "      <td>0</td>\n",
       "      <td>1</td>\n",
       "      <td>0</td>\n",
       "      <td>1</td>\n",
       "      <td>0</td>\n",
       "      <td>No phone service</td>\n",
       "      <td>DSL</td>\n",
       "      <td>0</td>\n",
       "      <td>1</td>\n",
       "      <td>0</td>\n",
       "      <td>0</td>\n",
       "      <td>0</td>\n",
       "      <td>0</td>\n",
       "      <td>Month-to-month</td>\n",
       "      <td>1</td>\n",
       "      <td>Electronic check</td>\n",
       "      <td>29.85</td>\n",
       "      <td>29.85</td>\n",
       "      <td>0</td>\n",
       "    </tr>\n",
       "    <tr>\n",
       "      <th>1</th>\n",
       "      <td>0</td>\n",
       "      <td>0</td>\n",
       "      <td>0</td>\n",
       "      <td>0</td>\n",
       "      <td>34</td>\n",
       "      <td>1</td>\n",
       "      <td>No</td>\n",
       "      <td>DSL</td>\n",
       "      <td>1</td>\n",
       "      <td>0</td>\n",
       "      <td>1</td>\n",
       "      <td>0</td>\n",
       "      <td>0</td>\n",
       "      <td>0</td>\n",
       "      <td>One year</td>\n",
       "      <td>0</td>\n",
       "      <td>Mailed check</td>\n",
       "      <td>56.95</td>\n",
       "      <td>1889.5</td>\n",
       "      <td>0</td>\n",
       "    </tr>\n",
       "    <tr>\n",
       "      <th>2</th>\n",
       "      <td>0</td>\n",
       "      <td>0</td>\n",
       "      <td>0</td>\n",
       "      <td>0</td>\n",
       "      <td>2</td>\n",
       "      <td>1</td>\n",
       "      <td>No</td>\n",
       "      <td>DSL</td>\n",
       "      <td>1</td>\n",
       "      <td>1</td>\n",
       "      <td>0</td>\n",
       "      <td>0</td>\n",
       "      <td>0</td>\n",
       "      <td>0</td>\n",
       "      <td>Month-to-month</td>\n",
       "      <td>1</td>\n",
       "      <td>Mailed check</td>\n",
       "      <td>53.85</td>\n",
       "      <td>108.15</td>\n",
       "      <td>1</td>\n",
       "    </tr>\n",
       "    <tr>\n",
       "      <th>3</th>\n",
       "      <td>0</td>\n",
       "      <td>0</td>\n",
       "      <td>0</td>\n",
       "      <td>0</td>\n",
       "      <td>45</td>\n",
       "      <td>0</td>\n",
       "      <td>No phone service</td>\n",
       "      <td>DSL</td>\n",
       "      <td>1</td>\n",
       "      <td>0</td>\n",
       "      <td>1</td>\n",
       "      <td>1</td>\n",
       "      <td>0</td>\n",
       "      <td>0</td>\n",
       "      <td>One year</td>\n",
       "      <td>0</td>\n",
       "      <td>Bank transfer (automatic)</td>\n",
       "      <td>42.30</td>\n",
       "      <td>1840.75</td>\n",
       "      <td>0</td>\n",
       "    </tr>\n",
       "    <tr>\n",
       "      <th>4</th>\n",
       "      <td>1</td>\n",
       "      <td>0</td>\n",
       "      <td>0</td>\n",
       "      <td>0</td>\n",
       "      <td>2</td>\n",
       "      <td>1</td>\n",
       "      <td>No</td>\n",
       "      <td>Fiber optic</td>\n",
       "      <td>0</td>\n",
       "      <td>0</td>\n",
       "      <td>0</td>\n",
       "      <td>0</td>\n",
       "      <td>0</td>\n",
       "      <td>0</td>\n",
       "      <td>Month-to-month</td>\n",
       "      <td>1</td>\n",
       "      <td>Electronic check</td>\n",
       "      <td>70.70</td>\n",
       "      <td>151.65</td>\n",
       "      <td>1</td>\n",
       "    </tr>\n",
       "  </tbody>\n",
       "</table>\n",
       "</div>"
      ],
      "text/plain": [
       "   gender  SeniorCitizen  Partner  Dependents  tenure  PhoneService  \\\n",
       "0       1              0        1           0       1             0   \n",
       "1       0              0        0           0      34             1   \n",
       "2       0              0        0           0       2             1   \n",
       "3       0              0        0           0      45             0   \n",
       "4       1              0        0           0       2             1   \n",
       "\n",
       "      MultipleLines InternetService  OnlineSecurity  OnlineBackup  \\\n",
       "0  No phone service             DSL               0             1   \n",
       "1                No             DSL               1             0   \n",
       "2                No             DSL               1             1   \n",
       "3  No phone service             DSL               1             0   \n",
       "4                No     Fiber optic               0             0   \n",
       "\n",
       "   DeviceProtection  TechSupport  StreamingTV  StreamingMovies  \\\n",
       "0                 0            0            0                0   \n",
       "1                 1            0            0                0   \n",
       "2                 0            0            0                0   \n",
       "3                 1            1            0                0   \n",
       "4                 0            0            0                0   \n",
       "\n",
       "         Contract  PaperlessBilling              PaymentMethod  \\\n",
       "0  Month-to-month                 1           Electronic check   \n",
       "1        One year                 0               Mailed check   \n",
       "2  Month-to-month                 1               Mailed check   \n",
       "3        One year                 0  Bank transfer (automatic)   \n",
       "4  Month-to-month                 1           Electronic check   \n",
       "\n",
       "   MonthlyCharges TotalCharges  Churn  \n",
       "0           29.85        29.85      0  \n",
       "1           56.95       1889.5      0  \n",
       "2           53.85       108.15      1  \n",
       "3           42.30      1840.75      0  \n",
       "4           70.70       151.65      1  "
      ]
     },
     "execution_count": 9,
     "metadata": {},
     "output_type": "execute_result"
    }
   ],
   "source": [
    "df.head()"
   ]
  },
  {
   "cell_type": "code",
   "execution_count": 10,
   "metadata": {},
   "outputs": [
    {
     "name": "stdout",
     "output_type": "stream",
     "text": [
      "(5634, 20) (1409, 20)\n"
     ]
    }
   ],
   "source": [
    "#now split the data into train and validation sets\n",
    "from sklearn.model_selection import train_test_split\n",
    "\n",
    "train, val = train_test_split(df, train_size=0.80, test_size=0.20, stratify=df['Churn'], random_state=42)\n",
    "print(train.shape, val.shape)"
   ]
  },
  {
   "cell_type": "code",
   "execution_count": 11,
   "metadata": {},
   "outputs": [
    {
     "data": {
      "text/plain": [
       "0    0.734647\n",
       "1    0.265353\n",
       "Name: Churn, dtype: float64"
      ]
     },
     "execution_count": 11,
     "metadata": {},
     "output_type": "execute_result"
    }
   ],
   "source": [
    "train['Churn'].value_counts(normalize=True)"
   ]
  },
  {
   "cell_type": "code",
   "execution_count": 12,
   "metadata": {},
   "outputs": [
    {
     "data": {
      "text/plain": [
       "0    0.734564\n",
       "1    0.265436\n",
       "Name: Churn, dtype: float64"
      ]
     },
     "execution_count": 12,
     "metadata": {},
     "output_type": "execute_result"
    }
   ],
   "source": [
    "val['Churn'].value_counts(normalize=True)"
   ]
  },
  {
   "cell_type": "markdown",
   "metadata": {},
   "source": [
    "# Baseline ML model for Churn dataset - 0 features, using majoirty class"
   ]
  },
  {
   "cell_type": "code",
   "execution_count": 13,
   "metadata": {},
   "outputs": [
    {
     "data": {
      "text/plain": [
       "0    0.734647\n",
       "1    0.265353\n",
       "Name: Churn, dtype: float64"
      ]
     },
     "execution_count": 13,
     "metadata": {},
     "output_type": "execute_result"
    }
   ],
   "source": [
    "#initalize target, normalize values\n",
    "target = 'Churn'\n",
    "y_train = train[target]\n",
    "y_train.value_counts(normalize=True)"
   ]
  },
  {
   "cell_type": "code",
   "execution_count": 14,
   "metadata": {},
   "outputs": [
    {
     "data": {
      "text/plain": [
       "0.7346467873624423"
      ]
     },
     "execution_count": 14,
     "metadata": {},
     "output_type": "execute_result"
    }
   ],
   "source": [
    "#intialize majoirty class\n",
    "majority = y_train.mode()[0]\n",
    "y_pred = [majority] * len(y_train)\n",
    "\n",
    "#show accuracy, should be same as majoirty value\n",
    "from sklearn.metrics import accuracy_score\n",
    "accuracy_score(y_train, y_pred)\n",
    "#as expected accuracy is 73.46% just guessing the majority value"
   ]
  },
  {
   "cell_type": "markdown",
   "metadata": {},
   "source": [
    "# Prep the data to be encoded and normalized for future analysis"
   ]
  },
  {
   "cell_type": "markdown",
   "metadata": {},
   "source": [
    "# Hyperparameter tuning on NN (learning rate, epochs, batch_size, activation function)"
   ]
  },
  {
   "cell_type": "code",
   "execution_count": 19,
   "metadata": {},
   "outputs": [],
   "source": [
    "import tensorflow\n",
    "from tensorflow import keras\n",
    "from tensorflow.keras.models import Sequential\n",
    "from tensorflow.keras.layers import Dense, Dropout, PReLU\n",
    "from tensorflow.keras.callbacks import EarlyStopping\n",
    "from sklearn.model_selection import GridSearchCV\n",
    "from tensorflow.keras.wrappers.scikit_learn import KerasClassifier\n",
    "from tensorflow.keras.optimizers import Adam, Nadam\n",
    "from sklearn.preprocessing import StandardScaler\n",
    "from sklearn.preprocessing import OrdinalEncoder\n",
    "from sklearn.preprocessing import Normalizer"
   ]
  },
  {
   "cell_type": "code",
   "execution_count": 20,
   "metadata": {},
   "outputs": [],
   "source": [
    "target = 'Churn'\n",
    "X_train = train.drop(columns=target)\n",
    "y_train = train[target]\n",
    "X_val = val.drop(columns=target)\n",
    "y_val = val[target]"
   ]
  },
  {
   "cell_type": "code",
   "execution_count": 21,
   "metadata": {},
   "outputs": [],
   "source": [
    "encoder = OrdinalEncoder()\n",
    "X_train_encoded = encoder.fit_transform(X_train)\n",
    "X_val_encoded = encoder.fit_transform(X_val)"
   ]
  },
  {
   "cell_type": "code",
   "execution_count": 23,
   "metadata": {},
   "outputs": [],
   "source": [
    "scaler = StandardScaler() #mean 0 std 1\n",
    "\n",
    "X_train = scaler.fit_transform(X_train_encoded)\n",
    "X_val = scaler.transform(X_val_encoded)"
   ]
  },
  {
   "cell_type": "code",
   "execution_count": 24,
   "metadata": {},
   "outputs": [
    {
     "name": "stdout",
     "output_type": "stream",
     "text": [
      "19\n"
     ]
    }
   ],
   "source": [
    "inputs = X_train.shape[1]\n",
    "print(inputs)"
   ]
  },
  {
   "cell_type": "code",
   "execution_count": 39,
   "metadata": {},
   "outputs": [
    {
     "name": "stdout",
     "output_type": "stream",
     "text": [
      "Best: 0.799783924690426 using {'epochs': 20, 'learning_rate': 0.001}\n",
      "Means: 0.7983635959596598, Stdev: 0.017453128274491234 with: {'epochs': 20, 'learning_rate': 0.0005}\n",
      "Means: 0.799783924690426, Stdev: 0.013778664858896068 with: {'epochs': 20, 'learning_rate': 0.001}\n",
      "Means: 0.7903779505469652, Stdev: 0.016245490956909504 with: {'epochs': 20, 'learning_rate': 0.01}\n",
      "Means: 0.7818504620166082, Stdev: 0.032022556010854034 with: {'epochs': 20, 'learning_rate': 0.05}\n",
      "Means: 0.7346473843224833, Stdev: 0.011082225108839655 with: {'epochs': 20, 'learning_rate': 0.1}\n"
     ]
    }
   ],
   "source": [
    "# fix random seed for reproducibility\n",
    "seed = 7\n",
    "np.random.seed(seed)\n",
    "\n",
    "# Function to create model, required for KerasClassifier\n",
    "def create_model(learning_rate=0.0001):\n",
    "    # create model\n",
    "    model = Sequential()\n",
    "    model.add(Dense(128, input_shape=(inputs,), activation='relu'))\n",
    "    model.add(Dense(64, activation='relu'))\n",
    "    model.add(Dropout(rate=0.2))\n",
    "    model.add(Dense(1, activation='sigmoid'))\n",
    "    # Compile model\n",
    "    model.compile(loss='binary_crossentropy', optimizer=Adam(learning_rate = learning_rate, name='Adam'), metrics=['accuracy'])\n",
    "    return model\n",
    "\n",
    "# create model\n",
    "opt_model = KerasClassifier(build_fn=create_model, verbose=0, epochs=20, batch_size=100,) #model same eah time, pass in kerasclassifier then do parameter grid search\n",
    "\n",
    "# define the grid search parameters\n",
    "# batch_size = [10, 20, 40, 60, 80, 100]\n",
    "# param_grid = dict(batch_size=batch_size, epochs=epochs)\n",
    "\n",
    "# define the grid search parameters\n",
    "learning_rate = [0.0005, 0.001, 0.01, 0.05, 0.1]\n",
    "param_grid = dict(optimizer=optimizer)\n",
    "\n",
    "# Create Grid Search\n",
    "grid = GridSearchCV(estimator=opt_model, param_grid=param_g, n_jobs=-1, verbose=0, scoring='accuracy')\n",
    "grid_result = grid.fit(X_train, y_train)\n",
    "\n",
    "\n",
    "# Report Results\n",
    "print(f\"Best: {grid_result.best_score_} using {grid_result.best_params_}\")\n",
    "means = grid_result.cv_results_['mean_test_score']\n",
    "stds = grid_result.cv_results_['std_test_score']\n",
    "params = grid_result.cv_results_['params']\n",
    "for mean, stdev, param in zip(means, stds, params):\n",
    "    print(f\"Means: {mean}, Stdev: {stdev} with: {param}\") "
   ]
  },
  {
   "cell_type": "code",
   "execution_count": 35,
   "metadata": {},
   "outputs": [
    {
     "name": "stdout",
     "output_type": "stream",
     "text": [
      "Best: 0.7999618768692016 using {'batch_size': 100, 'epochs': 20}\n",
      "Means: 0.7896652579307556, Stdev: 0.018079179032468005 with: {'batch_size': 10, 'epochs': 20}\n",
      "Means: 0.7901987552642822, Stdev: 0.015969832144096415 with: {'batch_size': 20, 'epochs': 20}\n",
      "Means: 0.7972988367080689, Stdev: 0.013816716124492676 with: {'batch_size': 40, 'epochs': 20}\n",
      "Means: 0.7996072411537171, Stdev: 0.014168622466091518 with: {'batch_size': 60, 'epochs': 20}\n",
      "Means: 0.798717737197876, Stdev: 0.016961854769572977 with: {'batch_size': 80, 'epochs': 20}\n",
      "Means: 0.7999618768692016, Stdev: 0.013748301880961553 with: {'batch_size': 100, 'epochs': 20}\n"
     ]
    }
   ],
   "source": [
    "def create_model():\n",
    "    # create model\n",
    "    model = Sequential()\n",
    "    model.add(Dense(64, activation='relu', input_shape=(inputs,)))\n",
    "    model.add(Dense(32, activation='relu'))\n",
    "    model.add(Dropout(rate=0.2))\n",
    "    model.add(Dense(1, activation='sigmoid'))\n",
    "    # Compile model\n",
    "    model.compile(loss='binary_crossentropy', optimizer='adam', metrics=['accuracy'])\n",
    "    return model\n",
    "\n",
    "# create model\n",
    "model = KerasClassifier(build_fn=create_model, verbose=0) #model same eah time, pass in kerasclassifier then do parameter grid search\n",
    "\n",
    "# define the grid search parameters\n",
    "# batch_size = [10, 20, 40, 60, 80, 100]\n",
    "# param_grid = dict(batch_size=batch_size, epochs=epochs)\n",
    "\n",
    "# define the grid search parameters\n",
    "param_grid = {'batch_size': [10, 20, 40, 60, 80, 100],\n",
    "              'epochs': [20]}\n",
    "\n",
    "# Create Grid Search\n",
    "grid = GridSearchCV(estimator=model, param_grid=param_grid, n_jobs=1)\n",
    "grid_result = grid.fit(X_train, y_train)\n",
    "\n",
    "# Report Results\n",
    "print(f\"Best: {grid_result.best_score_} using {grid_result.best_params_}\")\n",
    "means = grid_result.cv_results_['mean_test_score']\n",
    "stds = grid_result.cv_results_['std_test_score']\n",
    "params = grid_result.cv_results_['params']\n",
    "for mean, stdev, param in zip(means, stds, params):\n",
    "    print(f\"Means: {mean}, Stdev: {stdev} with: {param}\") "
   ]
  },
  {
   "cell_type": "code",
   "execution_count": 36,
   "metadata": {},
   "outputs": [
    {
     "name": "stdout",
     "output_type": "stream",
     "text": [
      "Best: 0.798541533946991 using {'batch_size': 100, 'epochs': 20}\n",
      "Means: 0.798541533946991, Stdev: 0.016667958719076056 with: {'batch_size': 100, 'epochs': 20}\n",
      "Means: 0.7974755048751831, Stdev: 0.014310099764887337 with: {'batch_size': 100, 'epochs': 50}\n",
      "Means: 0.7932157635688781, Stdev: 0.016483458756306007 with: {'batch_size': 100, 'epochs': 75}\n"
     ]
    }
   ],
   "source": [
    "def create_model():\n",
    "    # create model\n",
    "    model = Sequential()\n",
    "    model.add(Dense(64, activation='relu', input_shape=(inputs,)))\n",
    "    model.add(Dense(32, activation='relu'))\n",
    "    model.add(Dropout(rate=0.2))\n",
    "    model.add(Dense(1, activation='sigmoid'))\n",
    "    # Compile model\n",
    "    model.compile(loss='binary_crossentropy', optimizer='adam', metrics=['accuracy'])\n",
    "    return model\n",
    "\n",
    "# create model\n",
    "model = KerasClassifier(build_fn=create_model, verbose=0) #model same eah time, pass in kerasclassifier then do parameter grid search\n",
    "\n",
    "# define the grid search parameters\n",
    "# batch_size = [10, 20, 40, 60, 80, 100]\n",
    "# param_grid = dict(batch_size=batch_size, epochs=epochs)\n",
    "\n",
    "# define the grid search parameters\n",
    "param_grid = {'batch_size': [100],\n",
    "              'epochs': [20, 50, 75]}\n",
    "\n",
    "# Create Grid Search\n",
    "grid = GridSearchCV(estimator=model, param_grid=param_grid, n_jobs=1)\n",
    "grid_result = grid.fit(X_train, y_train)\n",
    "\n",
    "# Report Results\n",
    "print(f\"Best: {grid_result.best_score_} using {grid_result.best_params_}\")\n",
    "means = grid_result.cv_results_['mean_test_score']\n",
    "stds = grid_result.cv_results_['std_test_score']\n",
    "params = grid_result.cv_results_['params']\n",
    "for mean, stdev, param in zip(means, stds, params):\n",
    "    print(f\"Means: {mean}, Stdev: {stdev} with: {param}\") "
   ]
  },
  {
   "cell_type": "code",
   "execution_count": 38,
   "metadata": {},
   "outputs": [
    {
     "name": "stdout",
     "output_type": "stream",
     "text": [
      "Best: 0.8036896586418152 using {'optimizer': 'Nadam'}\n",
      "Means: 0.7873598337173462, Stdev: 0.01592568534004453 with: {'optimizer': 'SGD'}\n",
      "Means: 0.8020920395851135, Stdev: 0.014076566109028712 with: {'optimizer': 'RMSprop'}\n",
      "Means: 0.7843434333801269, Stdev: 0.012922711209439336 with: {'optimizer': 'Adagrad'}\n",
      "Means: 0.3924576938152313, Stdev: 0.11447528152020713 with: {'optimizer': 'Adadelta'}\n",
      "Means: 0.7983640670776367, Stdev: 0.01478940489843911 with: {'optimizer': 'Adam'}\n",
      "Means: 0.7971219897270203, Stdev: 0.015493040209876454 with: {'optimizer': 'Adamax'}\n",
      "Means: 0.8036896586418152, Stdev: 0.013460231138909215 with: {'optimizer': 'Nadam'}\n"
     ]
    }
   ],
   "source": [
    "def create_model(optimizer='adam'):\n",
    "    model = Sequential()\n",
    "    model.add(Dense(64, activation='relu', input_shape=(inputs,)))\n",
    "    model.add(Dense(32, activation='relu'))\n",
    "    model.add(Dropout(rate=0.2))\n",
    "    model.add(Dense(1, activation='sigmoid'))     \n",
    "    model.compile(loss = \"binary_crossentropy\", optimizer = optimizer, metrics=['accuracy'])\n",
    "    return model\n",
    "\n",
    "# create model\n",
    "model = KerasClassifier(build_fn=create_model, epochs=20, batch_size=100, verbose=0) #model same eah time, pass in kerasclassifier then do parameter grid search\n",
    "\n",
    "# define the grid search parameters\n",
    "# batch_size = [10, 20, 40, 60, 80, 100]\n",
    "# param_grid = dict(batch_size=batch_size, epochs=epochs)\n",
    "\n",
    "# define the grid search parameters\n",
    "optimizer = ['SGD', 'RMSprop', 'Adagrad', 'Adadelta', 'Adam', 'Adamax', 'Nadam']\n",
    "param_grid = dict(optimizer=optimizer)\n",
    "\n",
    "# Create Grid Search\n",
    "grid = GridSearchCV(estimator=model, param_grid=param_grid, n_jobs=1)\n",
    "grid_result = grid.fit(X_train, y_train)\n",
    "\n",
    "# Report Results\n",
    "print(f\"Best: {grid_result.best_score_} using {grid_result.best_params_}\")\n",
    "means = grid_result.cv_results_['mean_test_score']\n",
    "stds = grid_result.cv_results_['std_test_score']\n",
    "params = grid_result.cv_results_['params']\n",
    "for mean, stdev, param in zip(means, stds, params):\n",
    "    print(f\"Means: {mean}, Stdev: {stdev} with: {param}\") "
   ]
  },
  {
   "cell_type": "code",
   "execution_count": 40,
   "metadata": {},
   "outputs": [
    {
     "name": "stdout",
     "output_type": "stream",
     "text": [
      "Best: 0.8049328446388244 using {'activation': 'softplus'}\n",
      "Means: 0.7346473813056946, Stdev: 0.011082224181538 with: {'activation': 'softmax'}\n",
      "Means: 0.8049328446388244, Stdev: 0.01241332675179136 with: {'activation': 'softplus'}\n",
      "Means: 0.803866982460022, Stdev: 0.014320240500888983 with: {'activation': 'softsign'}\n",
      "Means: 0.7983640670776367, Stdev: 0.014444663473309808 with: {'activation': 'relu'}\n",
      "Means: 0.7999620079994202, Stdev: 0.011237134406431705 with: {'activation': 'tanh'}\n",
      "Means: 0.8040447473526001, Stdev: 0.014975978961969102 with: {'activation': 'sigmoid'}\n",
      "Means: 0.8029795169830323, Stdev: 0.014031589625561922 with: {'activation': 'hard_sigmoid'}\n",
      "Means: 0.7997855067253112, Stdev: 0.014302840898040186 with: {'activation': 'linear'}\n"
     ]
    }
   ],
   "source": [
    "def create_model(activation='relu'):\n",
    "    model = Sequential()\n",
    "    model.add(Dense(64, activation=activation, input_shape=(inputs,)))\n",
    "    model.add(Dense(32, activation=activation))\n",
    "    model.add(Dropout(rate=0.2))\n",
    "    model.add(Dense(1, activation='sigmoid'))   \n",
    "    optimizer = Nadam(learning_rate=0.001)\n",
    "    model.compile(loss=\"binary_crossentropy\", optimizer=optimizer, metrics=['accuracy'])\n",
    "    return model\n",
    "\n",
    "# create model\n",
    "model = KerasClassifier(build_fn=create_model, epochs=20, batch_size=100, verbose=0) #model same eah time, pass in kerasclassifier then do parameter grid search\n",
    "\n",
    "# define the grid search parameters\n",
    "# batch_size = [10, 20, 40, 60, 80, 100]\n",
    "# param_grid = dict(batch_size=batch_size, epochs=epochs)\n",
    "\n",
    "# define the grid search parameters\n",
    "activation = ['softmax', 'softplus', 'softsign', 'relu', 'tanh', 'sigmoid', 'hard_sigmoid', 'linear']\n",
    "param_grid = dict(activation=activation)\n",
    "\n",
    "# Create Grid Search\n",
    "grid = GridSearchCV(estimator=model, param_grid=param_grid, n_jobs=1)\n",
    "grid_result = grid.fit(X_train, y_train)\n",
    "\n",
    "# Report Results\n",
    "print(f\"Best: {grid_result.best_score_} using {grid_result.best_params_}\")\n",
    "means = grid_result.cv_results_['mean_test_score']\n",
    "stds = grid_result.cv_results_['std_test_score']\n",
    "params = grid_result.cv_results_['params']\n",
    "for mean, stdev, param in zip(means, stds, params):\n",
    "    print(f\"Means: {mean}, Stdev: {stdev} with: {param}\") "
   ]
  },
  {
   "cell_type": "code",
   "execution_count": 41,
   "metadata": {},
   "outputs": [
    {
     "name": "stdout",
     "output_type": "stream",
     "text": [
      "Best: 0.8051101684570312 using {'init_mode': 'glorot_uniform'}\n",
      "Means: 0.8040452241897583, Stdev: 0.011764942964412868 with: {'init_mode': 'uniform'}\n",
      "Means: 0.8029809355735779, Stdev: 0.011827988097390375 with: {'init_mode': 'lecun_uniform'}\n",
      "Means: 0.8024489998817443, Stdev: 0.011405939157751777 with: {'init_mode': 'normal'}\n",
      "Means: 0.7983651638031006, Stdev: 0.013148051765674518 with: {'init_mode': 'zero'}\n",
      "Means: 0.8044004559516906, Stdev: 0.013414160950635315 with: {'init_mode': 'glorot_normal'}\n",
      "Means: 0.8051101684570312, Stdev: 0.01479167537706617 with: {'init_mode': 'glorot_uniform'}\n",
      "Means: 0.8038674473762513, Stdev: 0.011711181203371538 with: {'init_mode': 'he_normal'}\n",
      "Means: 0.8020918726921081, Stdev: 0.01068338929631471 with: {'init_mode': 'he_uniform'}\n"
     ]
    }
   ],
   "source": [
    "def create_model(init_mode='uniform'):\n",
    "    model = Sequential()\n",
    "    model.add(Dense(64, kernel_initializer=init_mode, activation='softplus', input_shape=(inputs,)))\n",
    "    model.add(Dense(32, kernel_initializer=init_mode, activation='softplus'))\n",
    "    model.add(Dropout(rate=0.2))\n",
    "    model.add(Dense(1, kernel_initializer=init_mode, activation='sigmoid'))   \n",
    "    optimizer = Nadam(learning_rate=0.001)\n",
    "    model.compile(loss=\"binary_crossentropy\", optimizer=optimizer, metrics=['accuracy'])\n",
    "    return model\n",
    "\n",
    "# create model\n",
    "model = KerasClassifier(build_fn=create_model, epochs=20, batch_size=100, verbose=0) #model same eah time, pass in kerasclassifier then do parameter grid search\n",
    "\n",
    "# define the grid search parameters\n",
    "# batch_size = [10, 20, 40, 60, 80, 100]\n",
    "# param_grid = dict(batch_size=batch_size, epochs=epochs)\n",
    "\n",
    "# define the grid search parameters\n",
    "init_mode = ['uniform', 'lecun_uniform', 'normal', 'zero', 'glorot_normal', 'glorot_uniform', 'he_normal', 'he_uniform']\n",
    "param_grid = dict(init_mode=init_mode)\n",
    "\n",
    "# Create Grid Search\n",
    "grid = GridSearchCV(estimator=model, param_grid=param_grid, n_jobs=1)\n",
    "grid_result = grid.fit(X_train, y_train)\n",
    "\n",
    "# Report Results\n",
    "print(f\"Best: {grid_result.best_score_} using {grid_result.best_params_}\")\n",
    "means = grid_result.cv_results_['mean_test_score']\n",
    "stds = grid_result.cv_results_['std_test_score']\n",
    "params = grid_result.cv_results_['params']\n",
    "for mean, stdev, param in zip(means, stds, params):\n",
    "    print(f\"Means: {mean}, Stdev: {stdev} with: {param}\") "
   ]
  },
  {
   "cell_type": "code",
   "execution_count": 42,
   "metadata": {},
   "outputs": [
    {
     "name": "stdout",
     "output_type": "stream",
     "text": [
      "Best: 0.8051109552383423 using {'dropout_rate': 0.2, 'weight_constraint': 1}\n",
      "Means: 0.7990761399269104, Stdev: 0.015242866861710239 with: {'dropout_rate': 0.0, 'weight_constraint': 1}\n",
      "Means: 0.7962350010871887, Stdev: 0.010845697465406813 with: {'dropout_rate': 0.0, 'weight_constraint': 2}\n",
      "Means: 0.8001356959342957, Stdev: 0.02344108278084131 with: {'dropout_rate': 0.0, 'weight_constraint': 3}\n",
      "Means: 0.7962339043617248, Stdev: 0.013210501359921729 with: {'dropout_rate': 0.0, 'weight_constraint': 4}\n",
      "Means: 0.8051098465919495, Stdev: 0.014076354353409598 with: {'dropout_rate': 0.0, 'weight_constraint': 5}\n",
      "Means: 0.8024482250213623, Stdev: 0.014064680194122865 with: {'dropout_rate': 0.1, 'weight_constraint': 1}\n",
      "Means: 0.8035120487213134, Stdev: 0.013036865599745491 with: {'dropout_rate': 0.1, 'weight_constraint': 2}\n",
      "Means: 0.8013815760612488, Stdev: 0.01428907751555653 with: {'dropout_rate': 0.1, 'weight_constraint': 3}\n",
      "Means: 0.8026253819465637, Stdev: 0.008631946059488837 with: {'dropout_rate': 0.1, 'weight_constraint': 4}\n",
      "Means: 0.8049323797225952, Stdev: 0.01297941266484632 with: {'dropout_rate': 0.1, 'weight_constraint': 5}\n",
      "Means: 0.8051109552383423, Stdev: 0.008355729498304357 with: {'dropout_rate': 0.2, 'weight_constraint': 1}\n",
      "Means: 0.7996077299118042, Stdev: 0.014663756539142193 with: {'dropout_rate': 0.2, 'weight_constraint': 2}\n",
      "Means: 0.8024479150772095, Stdev: 0.01425844832740293 with: {'dropout_rate': 0.2, 'weight_constraint': 3}\n",
      "Means: 0.803333330154419, Stdev: 0.013808712006613285 with: {'dropout_rate': 0.2, 'weight_constraint': 4}\n",
      "Means: 0.8024471163749695, Stdev: 0.010672081291568547 with: {'dropout_rate': 0.2, 'weight_constraint': 5}\n",
      "Means: 0.8013826608657837, Stdev: 0.01497171486792218 with: {'dropout_rate': 0.3, 'weight_constraint': 1}\n",
      "Means: 0.80333411693573, Stdev: 0.016199806674692018 with: {'dropout_rate': 0.3, 'weight_constraint': 2}\n",
      "Means: 0.804931902885437, Stdev: 0.012987409483174272 with: {'dropout_rate': 0.3, 'weight_constraint': 3}\n",
      "Means: 0.8026241064071655, Stdev: 0.013449356278890715 with: {'dropout_rate': 0.3, 'weight_constraint': 4}\n",
      "Means: 0.8036907553672791, Stdev: 0.013914595611923373 with: {'dropout_rate': 0.3, 'weight_constraint': 5}\n",
      "Means: 0.8015602707862854, Stdev: 0.013857745389254085 with: {'dropout_rate': 0.4, 'weight_constraint': 1}\n",
      "Means: 0.8042230010032654, Stdev: 0.012118555418851217 with: {'dropout_rate': 0.4, 'weight_constraint': 2}\n",
      "Means: 0.8031574368476868, Stdev: 0.014481964410544583 with: {'dropout_rate': 0.4, 'weight_constraint': 3}\n",
      "Means: 0.802269971370697, Stdev: 0.00992780200891359 with: {'dropout_rate': 0.4, 'weight_constraint': 4}\n",
      "Means: 0.8028026700019837, Stdev: 0.013992006324811056 with: {'dropout_rate': 0.4, 'weight_constraint': 5}\n",
      "Means: 0.8031569719314575, Stdev: 0.014811626506836179 with: {'dropout_rate': 0.5, 'weight_constraint': 1}\n",
      "Means: 0.8017380595207214, Stdev: 0.011423778735023534 with: {'dropout_rate': 0.5, 'weight_constraint': 2}\n",
      "Means: 0.8017369508743286, Stdev: 0.01596103382978117 with: {'dropout_rate': 0.5, 'weight_constraint': 3}\n",
      "Means: 0.8036901473999023, Stdev: 0.012915083810139482 with: {'dropout_rate': 0.5, 'weight_constraint': 4}\n",
      "Means: 0.8031574368476868, Stdev: 0.012459728329444314 with: {'dropout_rate': 0.5, 'weight_constraint': 5}\n"
     ]
    }
   ],
   "source": [
    "from tensorflow.keras.constraints import MaxNorm\n",
    "\n",
    "\n",
    "def create_model(dropout_rate=0.0, weight_constraint=0):\n",
    "    model = Sequential()\n",
    "    model.add(Dense(64, kernel_initializer='glorot_uniform', activation='softplus', kernel_constraint=MaxNorm(weight_constraint), input_shape=(inputs,)))\n",
    "    model.add(Dense(32, kernel_initializer='glorot_uniform', kernel_constraint=MaxNorm(weight_constraint), activation='softplus'))\n",
    "    model.add(Dropout(dropout_rate))\n",
    "    model.add(Dense(1, kernel_initializer='glorot_uniform', kernel_constraint=MaxNorm(weight_constraint), activation='sigmoid'))   \n",
    "    optimizer = Nadam(learning_rate=0.001)\n",
    "    model.compile(loss=\"binary_crossentropy\", optimizer=optimizer, metrics=['accuracy'])\n",
    "    return model\n",
    "\n",
    "# create model\n",
    "model = KerasClassifier(build_fn=create_model, epochs=20, batch_size=100, verbose=0) #model same eah time, pass in kerasclassifier then do parameter grid search\n",
    "\n",
    "# define the grid search parameters\n",
    "# batch_size = [10, 20, 40, 60, 80, 100]\n",
    "# param_grid = dict(batch_size=batch_size, epochs=epochs)\n",
    "\n",
    "# define the grid search parameters\n",
    "weight_constraint = [1, 2, 3, 4, 5]\n",
    "dropout_rate = [0.0, 0.1, 0.2, 0.3, 0.4, 0.5]\n",
    "param_grid = dict(dropout_rate=dropout_rate, weight_constraint=weight_constraint)\n",
    "\n",
    "# Create Grid Search\n",
    "grid = GridSearchCV(estimator=model, param_grid=param_grid, n_jobs=1)\n",
    "grid_result = grid.fit(X_train, y_train)\n",
    "\n",
    "# Report Results\n",
    "print(f\"Best: {grid_result.best_score_} using {grid_result.best_params_}\")\n",
    "means = grid_result.cv_results_['mean_test_score']\n",
    "stds = grid_result.cv_results_['std_test_score']\n",
    "params = grid_result.cv_results_['params']\n",
    "for mean, stdev, param in zip(means, stds, params):\n",
    "    print(f\"Means: {mean}, Stdev: {stdev} with: {param}\") "
   ]
  },
  {
   "cell_type": "code",
   "execution_count": 43,
   "metadata": {},
   "outputs": [
    {
     "name": "stdout",
     "output_type": "stream",
     "text": [
      "Best: 0.8052871465682984 using {'neurons': 25}\n",
      "Means: 0.7346473813056946, Stdev: 0.011082224181538 with: {'neurons': 1}\n",
      "Means: 0.7951695799827576, Stdev: 0.017150368145742608 with: {'neurons': 5}\n",
      "Means: 0.8010285258293152, Stdev: 0.013156178445846932 with: {'neurons': 10}\n",
      "Means: 0.8052871465682984, Stdev: 0.015403809352465287 with: {'neurons': 25}\n",
      "Means: 0.8024486899375916, Stdev: 0.012339726679339313 with: {'neurons': 50}\n",
      "Means: 0.804933774471283, Stdev: 0.010195194258291384 with: {'neurons': 100}\n"
     ]
    }
   ],
   "source": [
    "def create_model(neurons=1):\n",
    "    model = Sequential()\n",
    "    model.add(Dense(neurons, kernel_initializer='glorot_uniform', activation='softplus', kernel_constraint=MaxNorm(1), input_shape=(inputs,)))\n",
    "    model.add(Dense(neurons, kernel_initializer='glorot_uniform', kernel_constraint=MaxNorm(1), activation='softplus'))\n",
    "    model.add(Dropout(rate=0.2))\n",
    "    model.add(Dense(1, kernel_initializer='glorot_uniform', kernel_constraint=MaxNorm(1), activation='sigmoid'))   \n",
    "    optimizer = Nadam(learning_rate=0.001)\n",
    "    model.compile(loss=\"binary_crossentropy\", optimizer=optimizer, metrics=['accuracy'])\n",
    "    return model\n",
    "\n",
    "# create model\n",
    "model = KerasClassifier(build_fn=create_model, epochs=20, batch_size=100, verbose=0) #model same eah time, pass in kerasclassifier then do parameter grid search\n",
    "\n",
    "# define the grid search parameters\n",
    "# batch_size = [10, 20, 40, 60, 80, 100]\n",
    "# param_grid = dict(batch_size=batch_size, epochs=epochs)\n",
    "\n",
    "# define the grid search parameters\n",
    "neurons = [1, 5, 10, 25, 50, 100]\n",
    "param_grid = dict(neurons=neurons)\n",
    "\n",
    "# Create Grid Search\n",
    "grid = GridSearchCV(estimator=model, param_grid=param_grid, n_jobs=1)\n",
    "grid_result = grid.fit(X_train, y_train)\n",
    "\n",
    "# Report Results\n",
    "print(f\"Best: {grid_result.best_score_} using {grid_result.best_params_}\")\n",
    "means = grid_result.cv_results_['mean_test_score']\n",
    "stds = grid_result.cv_results_['std_test_score']\n",
    "params = grid_result.cv_results_['params']\n",
    "for mean, stdev, param in zip(means, stds, params):\n",
    "    print(f\"Means: {mean}, Stdev: {stdev} with: {param}\") "
   ]
  },
  {
   "cell_type": "markdown",
   "metadata": {
    "colab_type": "text",
    "id": "FfZRtJ7MCN3x"
   },
   "source": [
    "## Stretch Goals:\n",
    "\n",
    "- Try to implement Random Search Hyperparameter Tuning on this dataset\n",
    "- Try to implement Bayesian Optimiation tuning on this dataset using hyperas or hyperopt (if you're brave)\n",
    "- Practice hyperparameter tuning other datasets that we have looked at. How high can you get MNIST? Above 99%?\n",
    "- Study for the Sprint Challenge\n",
    " - Can you implement both perceptron and MLP models from scratch with forward and backpropagation?\n",
    " - Can you implement both perceptron and MLP models in keras and tune their hyperparameters with cross validation?"
   ]
  }
 ],
 "metadata": {
  "colab": {
   "name": "LS_DS_434_Hyperparameter_Tuning_Assignment.ipynb",
   "provenance": [],
   "version": "0.3.2"
  },
  "kernelspec": {
   "display_name": "Python 3",
   "language": "python",
   "name": "python3"
  },
  "language_info": {
   "codemirror_mode": {
    "name": "ipython",
    "version": 3
   },
   "file_extension": ".py",
   "mimetype": "text/x-python",
   "name": "python",
   "nbconvert_exporter": "python",
   "pygments_lexer": "ipython3",
   "version": "3.7.0"
  }
 },
 "nbformat": 4,
 "nbformat_minor": 4
}
